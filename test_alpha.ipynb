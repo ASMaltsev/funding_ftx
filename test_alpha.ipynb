{
 "cells": [
  {
   "cell_type": "code",
   "execution_count": 1,
   "id": "32103f7c",
   "metadata": {},
   "outputs": [],
   "source": [
    "from strategy.alpha.tools.funding_tools.funding_alpha import FundingAlpha\n",
    "\n",
    "import random"
   ]
  },
  {
   "cell_type": "code",
   "execution_count": 2,
   "id": "6d101b58",
   "metadata": {},
   "outputs": [],
   "source": [
    "base_fr_earn = 0.1095\n",
    "A = 0.04\n",
    "k = 0.0495\n",
    "time_exit = 7\n",
    "share_usdtm = {'BTC': 0.4,\n",
    "              'ETH': 0.6}\n",
    "\n",
    "share_coinm = {'current': 0.5,\n",
    "              'next': 0.5}\n",
    "\n",
    "list_usdtm = ['ETHUSDT', 'BTCUSDT', 'ETHUSDT_211231', 'BTCUSDT_211231']\n",
    "list_coinm = ['ETHUSD_PERP', 'BTCUSD_PERP', 'BTCUSD_211231', 'ETHUSD_211231', 'BTCUSD_220325', 'ETHUSD_220325']\n",
    "\n"
   ]
  },
  {
   "cell_type": "code",
   "execution_count": 3,
   "id": "0f7e4b23",
   "metadata": {},
   "outputs": [],
   "source": [
    "alpha = FundingAlpha(list_usdtm, list_coinm, A, k, time_exit, share_usdtm, share_coinm, base_fr_earn)"
   ]
  },
  {
   "cell_type": "code",
   "execution_count": 4,
   "id": "621fba44",
   "metadata": {},
   "outputs": [],
   "source": [
    "state = alpha.decide()"
   ]
  },
  {
   "cell_type": "code",
   "execution_count": 5,
   "id": "7de7f985",
   "metadata": {},
   "outputs": [
    {
     "data": {
      "text/plain": [
       "{'USDT-M': {'actions': {'ETH': ['setup',\n",
       "    0.13950666434879383,\n",
       "    ('ETHUSDT', 'ETHUSDT_211231')],\n",
       "   'BTC': ['setup', 0.09514830361427905, ('BTCUSDT', 'BTCUSDT_211231')]}},\n",
       " 'COIN-M': {'actions': {'ETH_current': ['exit',\n",
       "    0,\n",
       "    ('ETHUSD_PERP', 'ETHUSD_211231')],\n",
       "   'ETH_next': ['exit', 0, ('ETHUSD_PERP', 'ETHUSD_220325')],\n",
       "   'BTC_current': ['exit', 0, ('BTCUSD_PERP', 'BTCUSD_211231')],\n",
       "   'BTC_next': ['exit', 0, ('BTCUSD_PERP', 'BTCUSD_220325')]}}}"
      ]
     },
     "execution_count": 5,
     "metadata": {},
     "output_type": "execute_result"
    }
   ],
   "source": [
    "state"
   ]
  },
  {
   "cell_type": "code",
   "execution_count": null,
   "id": "80422597",
   "metadata": {},
   "outputs": [],
   "source": []
  },
  {
   "cell_type": "code",
   "execution_count": 16,
   "id": "5a6606d0",
   "metadata": {},
   "outputs": [],
   "source": [
    "import datetime\n",
    "def get_tte(ticker_quart) -> int:\n",
    "    tte = ticker_quart.split('_')[1]\n",
    "    y = '20'+tte[:2]\n",
    "    m = tte[2:4]\n",
    "    d = tte[4:]\n",
    "    date = f'{y}/{m}/{d}'\n",
    "    date = datetime.datetime.strptime(date, \"%Y/%m/%d\")\n",
    "    tte = (date - datetime.datetime.utcnow()).days\n",
    "    return tte"
   ]
  },
  {
   "cell_type": "code",
   "execution_count": 59,
   "id": "75dbb41a",
   "metadata": {},
   "outputs": [],
   "source": [
    "state = {'USDT-M': {'actions': {'ETH': ['setup', 0.1403363396508593, ('ETHUSDT', 'ETHUSDT_211231')], 'BTC': ['setup', 0.09520974170831299, ('BTCUSDT', 'BTCUSDT_211231')]}}, 'COIN-M': {'actions': {'current': ['setup', 0.134484190873081, ('BTCUSD_PERP', 'BTCUSD_211231')], 'next': ['setup', 0.15756951224328983, ('BTCUSD_PERP', 'BTCUSD_220325')]}}}\n"
   ]
  },
  {
   "cell_type": "code",
   "execution_count": 12,
   "id": "c19f308c",
   "metadata": {},
   "outputs": [
    {
     "data": {
      "text/plain": [
       "'ETHUSDT_211231'"
      ]
     },
     "execution_count": 12,
     "metadata": {},
     "output_type": "execute_result"
    }
   ],
   "source": [
    "state['USDT-M']['actions']['ETH'][-1][-1]"
   ]
  },
  {
   "cell_type": "code",
   "execution_count": 17,
   "id": "327814c2",
   "metadata": {},
   "outputs": [
    {
     "data": {
      "text/plain": [
       "66"
      ]
     },
     "execution_count": 17,
     "metadata": {},
     "output_type": "execute_result"
    }
   ],
   "source": [
    "get_tte(state['USDT-M']['actions']['ETH'][-1][-1])"
   ]
  },
  {
   "cell_type": "code",
   "execution_count": 18,
   "id": "b1360e49",
   "metadata": {},
   "outputs": [],
   "source": [
    "state['USDT-M']['actions']['ETH'] = ['exit', 0, ('ETHUSDT', 'ETHUSDT_211231')]"
   ]
  },
  {
   "cell_type": "code",
   "execution_count": 6,
   "id": "20a88f92",
   "metadata": {},
   "outputs": [
    {
     "ename": "NameError",
     "evalue": "name 'state' is not defined",
     "output_type": "error",
     "traceback": [
      "\u001b[0;31m---------------------------------------------------------------------------\u001b[0m",
      "\u001b[0;31mNameError\u001b[0m                                 Traceback (most recent call last)",
      "\u001b[0;32m<ipython-input-6-202074563d3b>\u001b[0m in \u001b[0;36m<module>\u001b[0;34m\u001b[0m\n\u001b[0;32m----> 1\u001b[0;31m \u001b[0mstate\u001b[0m\u001b[0;34m\u001b[0m\u001b[0;34m\u001b[0m\u001b[0m\n\u001b[0m",
      "\u001b[0;31mNameError\u001b[0m: name 'state' is not defined"
     ]
    }
   ],
   "source": [
    "state"
   ]
  },
  {
   "cell_type": "code",
   "execution_count": 11,
   "id": "9f36684e",
   "metadata": {},
   "outputs": [
    {
     "data": {
      "text/plain": [
       "{'USDT-M': {'actions': {'ETH': ['setup',\n",
       "    0.13862331529686028,\n",
       "    ('ETHUSDT', 'ETHUSDT_211231')],\n",
       "   'BTC': ['setup', 0.09493105121589972, ('BTCUSDT', 'BTCUSDT_211231')]}},\n",
       " 'COIN-M': {'actions': {'ETH_current': ['setup',\n",
       "    0.12496511178546893,\n",
       "    ('ETHUSD_PERP', 'ETHUSD_211231')],\n",
       "   'ETH_next': ['setup',\n",
       "    0.14216370472272497,\n",
       "    ('ETHUSD_PERP', 'ETHUSD_220325')],\n",
       "   'BTC_current': ['setup',\n",
       "    0.13554785570653588,\n",
       "    ('BTCUSD_PERP', 'BTCUSD_211231')],\n",
       "   'BTC_next': ['setup',\n",
       "    0.1568810948961802,\n",
       "    ('BTCUSD_PERP', 'BTCUSD_220325')]}}}"
      ]
     },
     "execution_count": 11,
     "metadata": {},
     "output_type": "execute_result"
    }
   ],
   "source": [
    "state"
   ]
  },
  {
   "cell_type": "code",
   "execution_count": 21,
   "id": "e22ae005",
   "metadata": {},
   "outputs": [],
   "source": [
    "import datetime\n",
    "\n",
    "def exit_position(state, time_exit):\n",
    "    sections = ['USDT-M', 'COIN-M']\n",
    "    for s in sections:\n",
    "        assets = list(state[s]['actions'].keys())\n",
    "        for asset in assets:\n",
    "            pair = state[s]['actions'][asset][-1]\n",
    "            q = state[s]['actions'][asset][-1][-1]\n",
    "            tte = get_tte(q)\n",
    "            if tte <= time_exit:\n",
    "                state[s]['actions'][asset] = ['exit', 0, pair]\n",
    "                \n",
    "    return state\n",
    "\n",
    "def get_tte(ticker_quart) -> int:\n",
    "    tte = ticker_quart.split('_')[1]\n",
    "    y = '20'+tte[:2]\n",
    "    m = tte[2:4]\n",
    "    d = tte[4:]\n",
    "    date = f'{y}/{m}/{d}'\n",
    "    date = datetime.datetime.strptime(date, \"%Y/%m/%d\")\n",
    "    tte = (date - datetime.datetime.utcnow()).days\n",
    "    return tte\n",
    "\n",
    "#     usdtm = list(state['USDT-M']['actions'].keys())\n",
    "#     for asset in usdtm:\n",
    "#         pair = state['USDT-M']['actions'][asset][-1]\n",
    "#         q = state['USDT-M']['actions'][asset][-1][-1]\n",
    "#         tte = get_tte(q)\n",
    "#         if tte <= time_exit:\n",
    "#             state['USDT-M']['actions'][asset] = ['exit', 0, pair]\n",
    "    \n",
    "#     coinm = list(state['COIN-M']['actions'].keys())\n",
    "#     for asset in coinm:\n",
    "#         pair = state['COIN-M']['actions'][asset][-1]\n",
    "#         q = state['COIN-M']['actions'][asset][-1][-1]\n",
    "#         tte = get_tte(q)\n",
    "#         tte = 6\n",
    "#         if tte <= time_exit:\n",
    "#             state['COIN-M']['actions'][asset] = ['exit', 0, pair]\n",
    "\n",
    "\n",
    "        \n",
    "    "
   ]
  },
  {
   "cell_type": "code",
   "execution_count": 22,
   "id": "790bc740",
   "metadata": {},
   "outputs": [
    {
     "data": {
      "text/plain": [
       "{'USDT-M': {'actions': {'ETH': ['setup',\n",
       "    0.13862331529686028,\n",
       "    ('ETHUSDT', 'ETHUSDT_211231')],\n",
       "   'BTC': ['setup', 0.09493105121589972, ('BTCUSDT', 'BTCUSDT_211231')]}},\n",
       " 'COIN-M': {'actions': {'ETH_current': ['exit',\n",
       "    0,\n",
       "    ('ETHUSD_PERP', 'ETHUSD_211231')],\n",
       "   'ETH_next': ['exit', 0, ('ETHUSD_PERP', 'ETHUSD_220325')],\n",
       "   'BTC_current': ['exit', 0, ('BTCUSD_PERP', 'BTCUSD_211231')],\n",
       "   'BTC_next': ['exit', 0, ('BTCUSD_PERP', 'BTCUSD_220325')]}}}"
      ]
     },
     "execution_count": 22,
     "metadata": {},
     "output_type": "execute_result"
    }
   ],
   "source": [
    "exit_position(state, 7)"
   ]
  },
  {
   "cell_type": "code",
   "execution_count": null,
   "id": "c4347b3b",
   "metadata": {},
   "outputs": [],
   "source": []
  },
  {
   "cell_type": "code",
   "execution_count": null,
   "id": "722d0a8d",
   "metadata": {},
   "outputs": [],
   "source": []
  },
  {
   "cell_type": "code",
   "execution_count": null,
   "id": "fe400fa9",
   "metadata": {},
   "outputs": [],
   "source": []
  },
  {
   "cell_type": "code",
   "execution_count": 29,
   "id": "69ae9973",
   "metadata": {},
   "outputs": [
    {
     "data": {
      "text/plain": [
       "['ETH', 'BTC']"
      ]
     },
     "execution_count": 29,
     "metadata": {},
     "output_type": "execute_result"
    }
   ],
   "source": [
    "list(state['USDT-M']['actions'].keys())"
   ]
  },
  {
   "cell_type": "code",
   "execution_count": null,
   "id": "06834d9b",
   "metadata": {},
   "outputs": [],
   "source": []
  },
  {
   "cell_type": "code",
   "execution_count": null,
   "id": "9c389c6e",
   "metadata": {},
   "outputs": [],
   "source": []
  }
 ],
 "metadata": {
  "kernelspec": {
   "display_name": "Python 3",
   "language": "python",
   "name": "python3"
  },
  "language_info": {
   "codemirror_mode": {
    "name": "ipython",
    "version": 3
   },
   "file_extension": ".py",
   "mimetype": "text/x-python",
   "name": "python",
   "nbconvert_exporter": "python",
   "pygments_lexer": "ipython3",
   "version": "3.8.8"
  }
 },
 "nbformat": 4,
 "nbformat_minor": 5
}
